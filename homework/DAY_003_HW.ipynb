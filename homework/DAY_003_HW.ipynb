{
 "cells": [
  {
   "cell_type": "markdown",
   "metadata": {},
   "source": [
    "1.目標 : 雖然現在google翻譯能夠快速且高準確率的完成翻譯,但有一部份問題還是無法解決,這個問題就是如果我們對待翻譯的句子做些小小的且不影響語意的改動\n",
    ",則google翻譯有可能會犯錯.\n",
    "\n",
    "2.方法 : 運用ADVGEN,一種GAN的變種來訓練模型\n",
    "\n",
    "3.資料來源 : 本篇文章並沒有說明其資料來源為何,推測應為google內部資料    "
   ]
  },
  {
   "cell_type": "code",
   "execution_count": null,
   "metadata": {},
   "outputs": [],
   "source": []
  }
 ],
 "metadata": {
  "kernelspec": {
   "display_name": "Python 3",
   "language": "python",
   "name": "python3"
  },
  "language_info": {
   "codemirror_mode": {
    "name": "ipython",
    "version": 3
   },
   "file_extension": ".py",
   "mimetype": "text/x-python",
   "name": "python",
   "nbconvert_exporter": "python",
   "pygments_lexer": "ipython3",
   "version": "3.7.3"
  }
 },
 "nbformat": 4,
 "nbformat_minor": 2
}
