{
 "cells": [
  {
   "cell_type": "markdown",
   "metadata": {},
   "source": [
    "目標 : 藉由機器學習方法,可以將不同文章所分類,進一步可以將新聞內容所分類並分析和預測新聞內容對於社會和經濟所帶來的影響\n",
    "\n",
    "現今新聞越來越沒水準,如果能夠分析新聞的內容並判斷其好壞,勢必能讓新聞水準回升"
   ]
  }
 ],
 "metadata": {
  "kernelspec": {
   "display_name": "Python 3",
   "language": "python",
   "name": "python3"
  },
  "language_info": {
   "codemirror_mode": {
    "name": "ipython",
    "version": 3
   },
   "file_extension": ".py",
   "mimetype": "text/x-python",
   "name": "python",
   "nbconvert_exporter": "python",
   "pygments_lexer": "ipython3",
   "version": "3.7.3"
  }
 },
 "nbformat": 4,
 "nbformat_minor": 2
}
